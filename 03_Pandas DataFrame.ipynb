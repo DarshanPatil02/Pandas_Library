{
 "cells": [
  {
   "cell_type": "code",
   "execution_count": 1,
   "id": "8a425129",
   "metadata": {},
   "outputs": [
    {
     "name": "stdout",
     "output_type": "stream",
     "text": [
      "   cal  dur\n",
      "0  420   50\n",
      "1  380   40\n",
      "2  390   45\n"
     ]
    }
   ],
   "source": [
    "# Dataframe: it is a 2D data structure like a 2D array with table incl. rows and columns.\n",
    "import pandas as pd\n",
    "data = {\"cal\": [420, 380, 390], \"dur\":[50, 40, 45]}\n",
    "df = pd.DataFrame(data)\n",
    "print(df)"
   ]
  },
  {
   "cell_type": "code",
   "execution_count": 2,
   "id": "02b7d227",
   "metadata": {},
   "outputs": [
    {
     "name": "stdout",
     "output_type": "stream",
     "text": [
      "cal    420\n",
      "dur     50\n",
      "Name: 0, dtype: int64\n"
     ]
    }
   ],
   "source": [
    "# Locate row: pandas use the loc attibute to return one or more specified row.\n",
    "\n",
    "import pandas as pd\n",
    "data = {\"cal\": [420, 380, 390], \"dur\":[50, 40, 45]}\n",
    "df = pd.DataFrame(data)\n",
    "print(df.loc[0])"
   ]
  },
  {
   "cell_type": "code",
   "execution_count": 3,
   "id": "4ff6a32d",
   "metadata": {},
   "outputs": [
    {
     "name": "stdout",
     "output_type": "stream",
     "text": [
      "   cal  dur\n",
      "0  420   50\n",
      "1  380   40\n"
     ]
    }
   ],
   "source": [
    "# example of returning row 0 and 1\n",
    "import pandas as pd\n",
    "data = {\"cal\": [420, 380, 390], \"dur\":[50, 40, 45]}\n",
    "df = pd.DataFrame(data)\n",
    "print(df.loc[[0,1]])"
   ]
  },
  {
   "cell_type": "code",
   "execution_count": 4,
   "id": "d7b7b36f",
   "metadata": {},
   "outputs": [
    {
     "name": "stdout",
     "output_type": "stream",
     "text": [
      "      cal  dur\n",
      "day1  420   50\n",
      "day2  380   40\n",
      "day3  390   45\n"
     ]
    }
   ],
   "source": [
    "# named Index: with the index arg, you can name your own index.\n",
    "import pandas as pd\n",
    "data = {\"cal\": [420, 380, 390], \"dur\":[50, 40, 45]}\n",
    "df = pd.DataFrame(data, index=[\"day1\", \"day2\", \"day3\"])\n",
    "print(df)"
   ]
  },
  {
   "cell_type": "code",
   "execution_count": 5,
   "id": "50cebda5",
   "metadata": {},
   "outputs": [
    {
     "name": "stdout",
     "output_type": "stream",
     "text": [
      "cal    380\n",
      "dur     40\n",
      "Name: day2, dtype: int64\n"
     ]
    }
   ],
   "source": [
    "# locate the named index:\n",
    "import pandas as pd\n",
    "data = {\"cal\": [420, 380, 390], \"dur\":[50, 40, 45]}\n",
    "df = pd.DataFrame(data, index=[\"day1\", \"day2\", \"day3\"])\n",
    "print(df.loc[\"day2\"])"
   ]
  },
  {
   "cell_type": "code",
   "execution_count": 6,
   "id": "5fbb085f",
   "metadata": {},
   "outputs": [
    {
     "name": "stdout",
     "output_type": "stream",
     "text": [
      "      cal  dur\n",
      "day1  420   50\n",
      "day2  380   40\n"
     ]
    }
   ],
   "source": [
    "# output in a dataframe:\n",
    "import pandas as pd\n",
    "data = {\"cal\": [420, 380, 390], \"dur\":[50, 40, 45]}\n",
    "df = pd.DataFrame(data, index=[\"day1\", \"day2\", \"day3\"])\n",
    "print(df.loc[[\"day1\", \"day2\"]])"
   ]
  },
  {
   "cell_type": "code",
   "execution_count": 7,
   "id": "dd774e0d",
   "metadata": {},
   "outputs": [
    {
     "name": "stdout",
     "output_type": "stream",
     "text": [
      "     Duration  Pulse  Maxpulse  Calories\n",
      "0          60    110       130     409.1\n",
      "1          60    117       145     479.0\n",
      "2          60    103       135     340.0\n",
      "3          45    109       175     282.4\n",
      "4          45    117       148     406.0\n",
      "..        ...    ...       ...       ...\n",
      "164        60    105       140     290.8\n",
      "165        60    110       145     300.0\n",
      "166        60    115       145     310.2\n",
      "167        75    120       150     320.4\n",
      "168        75    125       150     330.4\n",
      "\n",
      "[169 rows x 4 columns]\n"
     ]
    }
   ],
   "source": [
    "# load the data from the csv file into dataframe i.e data.csv\n",
    "import pandas as pd\n",
    "fileload = pd.read_csv('data.csv')\n",
    "print(fileload)"
   ]
  }
 ],
 "metadata": {
  "kernelspec": {
   "display_name": "Python 3 (ipykernel)",
   "language": "python",
   "name": "python3"
  },
  "language_info": {
   "codemirror_mode": {
    "name": "ipython",
    "version": 3
   },
   "file_extension": ".py",
   "mimetype": "text/x-python",
   "name": "python",
   "nbconvert_exporter": "python",
   "pygments_lexer": "ipython3",
   "version": "3.9.13"
  }
 },
 "nbformat": 4,
 "nbformat_minor": 5
}
