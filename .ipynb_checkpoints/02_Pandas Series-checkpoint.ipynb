{
 "cells": [
  {
   "cell_type": "code",
   "execution_count": 1,
   "id": "f3719448",
   "metadata": {},
   "outputs": [
    {
     "name": "stdout",
     "output_type": "stream",
     "text": [
      "0    1\n",
      "1    7\n",
      "2    2\n",
      "dtype: int64\n"
     ]
    }
   ],
   "source": [
    "# A Pandas series is like a column in a table . it is 1D array which holds data of any type.\n",
    "# here we will create a simple pandas series.\n",
    "import pandas as pd\n",
    "series = [1,7,2]\n",
    "seriesnew = pd.Series(series)\n",
    "print(seriesnew)"
   ]
  },
  {
   "cell_type": "code",
   "execution_count": null,
   "id": "2f69375a",
   "metadata": {},
   "outputs": [],
   "source": [
    "# labeling - label can be use to access a specified value.\n",
    "import pandas as pd\n",
    "series = [1,7,2]\n",
    "seriesnew = pd.Series(series)\n",
    "print(seriesnew[0])"
   ]
  },
  {
   "cell_type": "code",
   "execution_count": null,
   "id": "e6ffdf6c",
   "metadata": {},
   "outputs": [],
   "source": [
    "# wuth Create label you can create your own name labels:\n",
    "import pandas as pd\n",
    "series = [1,7,2]\n",
    "seriesnew = pd.Series(series, index=[\"x\", \"y\", \"z\"])\n",
    "print(seriesnew)"
   ]
  },
  {
   "cell_type": "code",
   "execution_count": 2,
   "id": "c8c083b8",
   "metadata": {},
   "outputs": [
    {
     "name": "stdout",
     "output_type": "stream",
     "text": [
      "1\n"
     ]
    }
   ],
   "source": [
    "# labeling - label can be use to access a specified value.(after creating own label)\n",
    "import pandas as pd\n",
    "series = [1,7,2]\n",
    "seriesnew = pd.Series(series, index=[\"x\", \"y\", \"z\"])\n",
    "print(seriesnew[\"x\"])"
   ]
  },
  {
   "cell_type": "code",
   "execution_count": null,
   "id": "6bee810c",
   "metadata": {},
   "outputs": [],
   "source": [
    "# you can also use a key or value object like a dictionary, when creating a series.\n",
    "# here we will create a simple pandas series from a dictionary.\n",
    "import pandas as pd\n",
    "cal = {\"day1\": 420, \"day2\":380, \"day3\":390}\n",
    "seriesnew = pd.Series(cal)\n",
    "print(seriesnew)"
   ]
  },
  {
   "cell_type": "code",
   "execution_count": null,
   "id": "2b677c93",
   "metadata": {},
   "outputs": [],
   "source": [
    "# now we will create a series using only data from day1 and day2\n",
    "import pandas as pd\n",
    "cal = {\"day1\": 420, \"day2\":380, \"day3\":390}\n",
    "result = pd.Series(cal, index=[\"day1\", \"day2\"])\n",
    "print(result)"
   ]
  },
  {
   "cell_type": "code",
   "execution_count": null,
   "id": "4454447e",
   "metadata": {},
   "outputs": [],
   "source": [
    "# DataFrame: Data sets in pandas are usually multidimentional tables,, and they re called DataFrames.\n",
    "# series are like columns and dataframes is the whole table."
   ]
  },
  {
   "cell_type": "code",
   "execution_count": null,
   "id": "86196b59",
   "metadata": {},
   "outputs": [],
   "source": [
    "# we will now create a dataframe from 2 series.\n",
    "import pandas as pd\n",
    "series = {\"cal\": [420, 380, 390], \"duration\": [50, 40, 45]}\n",
    "seriesnew = pd.DataFrame(series)\n",
    "print(seriesnew)\n",
    "\n",
    "\n"
   ]
  }
 ],
 "metadata": {
  "kernelspec": {
   "display_name": "Python 3 (ipykernel)",
   "language": "python",
   "name": "python3"
  },
  "language_info": {
   "codemirror_mode": {
    "name": "ipython",
    "version": 3
   },
   "file_extension": ".py",
   "mimetype": "text/x-python",
   "name": "python",
   "nbconvert_exporter": "python",
   "pygments_lexer": "ipython3",
   "version": "3.9.13"
  }
 },
 "nbformat": 4,
 "nbformat_minor": 5
}
