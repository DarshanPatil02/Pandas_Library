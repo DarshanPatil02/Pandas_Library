{
 "cells": [
  {
   "cell_type": "markdown",
   "id": "ac7d8f88",
   "metadata": {},
   "source": [
    "#### What is Pandas?\n",
    "Pandas is a Python library used for working with data sets. It has functions for analyzing, cleaning, exploring, and manipulating data. The name \"Pandas\" has a reference to both \"Panel Data\", and \"Python Data Analysis\""
   ]
  },
  {
   "cell_type": "markdown",
   "id": "53bba3fa",
   "metadata": {},
   "source": [
    "#### Why Use Pandas?\n",
    "Pandas allows us to analyze big data and make conclusions based on statistical theories. Pandas can clean messy data sets, and make them readable and relevant. Relevant data is very important in datascience."
   ]
  },
  {
   "cell_type": "markdown",
   "id": "03d41272",
   "metadata": {},
   "source": [
    "#### What Can Pandas Do?\n",
    "Pandas gives you answers about the data.\n",
    "Like:\n",
    "- Is there a correlation between two ormore columns?\n",
    "- What is average value?\n",
    "- Max value?\n",
    "- Min value?\n",
    "\n",
    "Pandas are also able to delete rows thatare not relevant, or contains wrong values,like empty or NULL values. This is called cleaning the data."
   ]
  },
  {
   "cell_type": "code",
   "execution_count": 1,
   "id": "12621a15",
   "metadata": {},
   "outputs": [
    {
     "name": "stdout",
     "output_type": "stream",
     "text": [
      "1.4.4\n"
     ]
    }
   ],
   "source": [
    "import pandas as pd\n",
    "print(pd.__version__)"
   ]
  }
 ],
 "metadata": {
  "kernelspec": {
   "display_name": "Python 3 (ipykernel)",
   "language": "python",
   "name": "python3"
  },
  "language_info": {
   "codemirror_mode": {
    "name": "ipython",
    "version": 3
   },
   "file_extension": ".py",
   "mimetype": "text/x-python",
   "name": "python",
   "nbconvert_exporter": "python",
   "pygments_lexer": "ipython3",
   "version": "3.9.13"
  }
 },
 "nbformat": 4,
 "nbformat_minor": 5
}
